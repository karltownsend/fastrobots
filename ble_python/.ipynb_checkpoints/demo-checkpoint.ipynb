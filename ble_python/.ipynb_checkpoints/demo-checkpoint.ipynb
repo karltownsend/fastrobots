{
 "cells": [
  {
   "cell_type": "markdown",
   "metadata": {},
   "source": [
    "## Import necessary modules\n",
    "Run this cell before running any other cells"
   ]
  },
  {
   "cell_type": "code",
   "execution_count": 1,
   "metadata": {},
   "outputs": [],
   "source": [
    "%load_ext autoreload\n",
    "%autoreload 2\n",
    "\n",
    "from ble import get_ble_controller\n",
    "from base_ble import LOG\n",
    "from cmd_types import CMD\n",
    "import time\n",
    "import numpy as np\n",
    "\n",
    "LOG.propagate = False\n"
   ]
  },
  {
   "cell_type": "markdown",
   "metadata": {},
   "source": [
    "# Printing and Logging\n",
    "## Printing\n",
    "You can use the **print()** function in Python to print messages to the screen. <br>\n",
    "The message can be a string, or any other object, the object will be converted into a string before it is written to the screen. <br>\n",
    "\n",
    "## Logging\n",
    "You could use the logging module that is setup in *utils.py*. <br>\n",
    "It prints to both your screen (standard output) as well as to log files (*ble.log*) in the *logs* directory. <br>\n",
    "This is the recommended way to output messages, since the log files can help with debugging. <br>\n",
    "The logging module also provides different log levels as shown below, each formatted with a different color for increased visibility. <br>\n",
    "\n",
    "__**NOTE**__: You may notice that the DEBUG message is not printed to the screen but is printed in the log file. This is because the logging level for the screen is set to INFO and for the file is set to DEBUG. You can change the default log levels in *utils.py* (**STREAM_LOG_LEVEL** and **FILE_LOG_LEVEL**). \n",
    "\n",
    "## Formatting output\n",
    "To format your strings, you may use %-formatting, str.format() or f-strings. <br>\n",
    "The most \"pythonic\" way would be to use f-strings. [Here](https://realpython.com/python-f-strings/) is a good tutorial on f-strings. <br>"
   ]
  },
  {
   "cell_type": "code",
   "execution_count": 20,
   "metadata": {},
   "outputs": [
    {
     "name": "stdout",
     "output_type": "stream",
     "text": [
      "2024-07-28 16:40:49,289 |\u001b[32m INFO     \u001b[0m|: info\n",
      "2024-07-28 16:40:49,290 |\u001b[33m WARNING  \u001b[0m|: warning\n",
      "2024-07-28 16:40:49,291 |\u001b[31m ERROR    \u001b[0m|: error\n",
      "2024-07-28 16:40:49,292 |\u001b[31m\u001b[47m\u001b[1m CRITICAL \u001b[0m|: critical\n"
     ]
    }
   ],
   "source": [
    "LOG.debug(\"debug\")\n",
    "LOG.info(\"info\")\n",
    "LOG.warning(\"warning\")\n",
    "LOG.error(\"error\")\n",
    "LOG.critical(\"critical\")"
   ]
  },
  {
   "cell_type": "markdown",
   "metadata": {},
   "source": [
    "<hr>\n",
    "\n",
    "# BLE\n",
    "## ArtemisBLEController\n",
    "The class **ArtemisBLEController** (defined in *ble.py*) provides member functions to handle various BLE operations to send and receive data to/from the Artemis board, provided the accompanying Arduino sketch is running on the Artemis board. <br>\n",
    "\n",
    "<table align=\"left\">\n",
    "     <tr>\n",
    "        <th style=\"text-align: left; font-size: medium\">Member Functions</th>\n",
    "        <th style=\"text-align: left; font-size: medium\">Description</th style=\"text-align: left\">\n",
    "    </tr>\n",
    "    <tr>\n",
    "        <th style=\"text-align: left\"><span style=\"color:rgb(201,152,4);font-family:monospace\">reload_config()</span></th>\n",
    "        <th style=\"text-align: left\"><span style=\"font-weight: normal\">Reload changes made in <em>connection.yaml.</em></span></th style=\"text-align: left\">\n",
    "    </tr>\n",
    "    <tr>\n",
    "        <th style=\"text-align: left\"><span style=\"color:rgb(201,152,4);font-family:monospace\">connect()</span></th>\n",
    "        <th style=\"text-align: left\"><span style=\"font-weight: normal\">Connect to the Artemis board, whose MAC address is specified in <em>connection.yaml</em>.</span></th>\n",
    "    </tr>\n",
    "    <tr>\n",
    "        <th style=\"text-align: left\"><span style=\"color:rgb(201,152,4);font-family:monospace\">disconnect()</span></th>\n",
    "        <th style=\"text-align: left\"><span style=\"font-weight: normal\">Disconnect from the Artemis board.</span></th>\n",
    "    </tr>\n",
    "    <tr>\n",
    "        <th style=\"text-align: left\"><span style=\"color:rgb(201,152,4);font-family:monospace\">is_connected()</span></th>\n",
    "        <th style=\"text-align: left\"><span style=\"font-weight: normal\">Return a boolean indicating whether your controller is connected to the Artemis board or not.</span></th>\n",
    "    </tr>\n",
    "    <tr>\n",
    "        <th style=\"text-align: left\"><span style=\"color:rgb(201,152,4);font-family:monospace\">send_command(cmd_type, data)</span></th>\n",
    "        <th style=\"text-align: left\"><span style=\"font-weight: normal\">Send the command <strong>cmd_type</strong> (integer) with <strong>data</strong> (string) to the Artemis board.</span></th>\n",
    "    </tr>\n",
    "    <tr>\n",
    "        <th style=\"text-align: left\"><span style=\"color:rgb(201,152,4);font-family:monospace\">receive_float(uuid) <br> receive_string(uuid) <br> receive_int(uuid)</span></th>\n",
    "        <th style=\"text-align: left\"><span style=\"font-weight: normal\">Read the GATT characteristic (specified by its <strong>uuid</strong>) of type float, string or int. <br> The type of the GATT\n",
    "            characteristic is determined by the classes BLEFloatCharacteristic, BLECStringCharacteristic or\n",
    "            BLEIntCharacteristic in the Arduino sketch.</span></th>\n",
    "    </tr>\n",
    "    <tr>\n",
    "        <th style=\"text-align: left\"><span style=\"color:rgb(201,152,4);font-family:monospace\">start_notify(uuid, notification_handler)</span></th>\n",
    "        <th style=\"text-align: left\"><span style=\"font-weight: normal\">Activate notifications on the GATT characteristic (specified by its <strong>uuid</strong>). <br> <strong>notification_handler</strong> is a\n",
    "            function callback which must accept two inputs; the first will be a uuid string object and the second will\n",
    "            be the bytearray of the characteristic value.</span></th>\n",
    "    </tr>\n",
    "    <tr>\n",
    "        <th style=\"text-align: left\"><span style=\"color:rgb(201,152,4);font-family:monospace\">bytearray_to_float(byte_array) <br> bytearray_to_string(byte_array) <br> bytearray_to_int(byte_array)</span></th>\n",
    "        <th style=\"text-align: left\"><span style=\"font-weight: normal\">Convert the <strong>bytearray</strong> to float, string or int, respectively. <br> You may use these functions inside your\n",
    "            notification callback function.</span></th>\n",
    "    </tr>\n",
    "    <tr>\n",
    "        <th style=\"text-align: left\"><span style=\"color:rgb(201,152,4);font-family:monospace\">stop_notify(uuid)</span></th>\n",
    "        <th style=\"text-align: left\"><span style=\"font-weight: normal\">Stop notifications on the GATT characteristic (specified by its <strong>uuid</strong>).</span></th>\n",
    "    </tr>\n",
    "</table>\n",
    "\n",
    "<table align=\"left\">\n",
    "     <tr>\n",
    "        <th style=\"text-align: left; font-size: medium\">Member Variables</th>\n",
    "        <th style=\"text-align: left; font-size: medium\">Description</th style=\"text-align: left\">\n",
    "    </tr>\n",
    "    <tr>\n",
    "        <th style=\"text-align: left\"><span style=\"color:rgb(201,152,4);font-family:monospace\">uuid</span></th>\n",
    "        <th style=\"text-align: left\"><span style=\"font-weight: normal\">A dictionary that stores the UUIDs of the various characteristics specified in <em>connection.yaml</em>.</span></th>\n",
    "    </tr>\n",
    "</table>"
   ]
  },
  {
   "cell_type": "markdown",
   "metadata": {},
   "source": [
    "## Configuration\n",
    "- The MAC address, Service UUID and GATT characteristic UUIDs are defined in the file: *connection.yaml*.\n",
    "- They should match the UUIDs used in the Arduino sketch.\n",
    "- The artemis board running the base code should display its MAC address in the serial monitor.\n",
    "- Update the **artemis_address** in *connection.yaml*, accordingly.\n",
    "- Make sure to call **ble.reload_config()** or **get_ble_controller()** (which internally calls **reload_config()**) after making any changes to your configuration file.\n",
    "\n",
    "<hr>"
   ]
  },
  {
   "cell_type": "markdown",
   "metadata": {},
   "source": [
    "In the below cell, we create an **ArtemisBLEController** object using **get_ble_controller()** (defined in *ble.py*), which creates and/or returns a single instance of **ArtemisBLEController**. <br>\n",
    "<span style=\"color:rgb(240,50,50)\"> __NOTE__: Do not use the class directly to instantiate an object. </span><br>"
   ]
  },
  {
   "cell_type": "code",
   "execution_count": 46,
   "metadata": {},
   "outputs": [
    {
     "name": "stdout",
     "output_type": "stream",
     "text": [
      "2024-07-31 21:49:20,234 |\u001b[32m INFO     \u001b[0m|: Looking for Artemis Nano Peripheral Device: c0:ec:f2:c2:23:04\n",
      "2024-07-31 21:49:23,125 |\u001b[32m INFO     \u001b[0m|: Connected to c0:ec:f2:c2:23:04\n"
     ]
    }
   ],
   "source": [
    "# Get ArtemisBLEController object\n",
    "ble = get_ble_controller()\n",
    "\n",
    "# Connect to the Artemis Device\n",
    "ble.connect()"
   ]
  },
  {
   "cell_type": "markdown",
   "metadata": {},
   "source": [
    "## Receive data from the Artemis board"
   ]
  },
  {
   "cell_type": "markdown",
   "metadata": {},
   "source": [
    "The cell below shows examples of reading different types (as defined in the Arduino sketch) of GATT characteristics."
   ]
  },
  {
   "cell_type": "code",
   "execution_count": 40,
   "metadata": {},
   "outputs": [
    {
     "name": "stdout",
     "output_type": "stream",
     "text": [
      "5.0\n"
     ]
    }
   ],
   "source": [
    "# Read a float GATT Charactersistic\n",
    "f = ble.receive_float(ble.uuid['RX_FLOAT'])\n",
    "print(f)"
   ]
  },
  {
   "cell_type": "code",
   "execution_count": 32,
   "metadata": {},
   "outputs": [
    {
     "name": "stdout",
     "output_type": "stream",
     "text": [
      "[->9.0<-]\n"
     ]
    }
   ],
   "source": [
    "# Read a string GATT Charactersistic\n",
    "s = ble.receive_string(ble.uuid['RX_STRING'])\n",
    "print(s)"
   ]
  },
  {
   "cell_type": "markdown",
   "metadata": {},
   "source": [
    "## Send a command to the Artemis board\n",
    "Send the PING command and read the reply string from the string characteristic RX_STRING. <br>\n",
    "__NOTE__: The **send_command()** essentially sends a string data to the GATT characteristic (TX_CMD_STRING). The GATT characteristic in the Arduino sketch is of type BLECStringCharacteristic."
   ]
  },
  {
   "cell_type": "code",
   "execution_count": 33,
   "metadata": {},
   "outputs": [],
   "source": [
    "ble.send_command(CMD.PING, \"\")"
   ]
  },
  {
   "cell_type": "code",
   "execution_count": 34,
   "metadata": {},
   "outputs": [
    {
     "name": "stdout",
     "output_type": "stream",
     "text": [
      "PONG\n"
     ]
    }
   ],
   "source": [
    "s = ble.receive_string(ble.uuid['RX_STRING'])\n",
    "print(s)"
   ]
  },
  {
   "cell_type": "markdown",
   "metadata": {},
   "source": [
    "The cell below shows an example of the SEND_TWO_INTS command. <br> The two values in the **data** are separated by a delimiter \"|\". <br>\n",
    "Refer Lab 2 documentation for more information on the command protocol."
   ]
  },
  {
   "cell_type": "code",
   "execution_count": 36,
   "metadata": {},
   "outputs": [],
   "source": [
    "ble.send_command(CMD.SEND_TWO_INTS, \"2|-6\")"
   ]
  },
  {
   "cell_type": "markdown",
   "metadata": {},
   "source": [
    "The Artemis board should print the two integers to the serial monitor in the ArduinoIDE. "
   ]
  },
  {
   "cell_type": "code",
   "execution_count": 66,
   "metadata": {},
   "outputs": [
    {
     "name": "stdout",
     "output_type": "stream",
     "text": [
      "Robot says -> HiHello :)\n"
     ]
    }
   ],
   "source": [
    "# Tasks\n",
    "ble.send_command(CMD.ECHO, \"HiHello\")\n",
    "print(ble.receive_string(ble.uuid['RX_STRING']))"
   ]
  },
  {
   "cell_type": "code",
   "execution_count": 49,
   "metadata": {},
   "outputs": [
    {
     "ename": "ValueError",
     "evalue": "Characteristic notifications already started",
     "output_type": "error",
     "traceback": [
      "\u001b[0;31m---------------------------------------------------------------------------\u001b[0m",
      "\u001b[0;31mValueError\u001b[0m                                Traceback (most recent call last)",
      "Cell \u001b[0;32mIn[49], line 6\u001b[0m\n\u001b[1;32m      3\u001b[0m     timestamp \u001b[38;5;241m=\u001b[39m ble\u001b[38;5;241m.\u001b[39mbytearray_to_string(byte_array)[\u001b[38;5;241m2\u001b[39m:]\n\u001b[1;32m      4\u001b[0m     \u001b[38;5;28mprint\u001b[39m(\u001b[38;5;124m'\u001b[39m\u001b[38;5;124mTime:\u001b[39m\u001b[38;5;124m'\u001b[39m, timestamp)\n\u001b[0;32m----> 6\u001b[0m \u001b[43mble\u001b[49m\u001b[38;5;241;43m.\u001b[39;49m\u001b[43mstart_notify\u001b[49m\u001b[43m(\u001b[49m\u001b[43mble\u001b[49m\u001b[38;5;241;43m.\u001b[39;49m\u001b[43muuid\u001b[49m\u001b[43m[\u001b[49m\u001b[38;5;124;43m'\u001b[39;49m\u001b[38;5;124;43mRX_STRING\u001b[39;49m\u001b[38;5;124;43m'\u001b[39;49m\u001b[43m]\u001b[49m\u001b[43m,\u001b[49m\u001b[43m \u001b[49m\u001b[43mnotification_handler\u001b[49m\u001b[43m)\u001b[49m\n",
      "File \u001b[0;32m~/Documents/python/cornell/mae4190/ble_python/ble.py:81\u001b[0m, in \u001b[0;36mBaseBLEController.start_notify\u001b[0;34m(self, uuid, notification_handler)\u001b[0m\n\u001b[1;32m     80\u001b[0m \u001b[38;5;28;01mdef\u001b[39;00m \u001b[38;5;21mstart_notify\u001b[39m(\u001b[38;5;28mself\u001b[39m, uuid, notification_handler):\n\u001b[0;32m---> 81\u001b[0m     \u001b[38;5;28;43mself\u001b[39;49m\u001b[38;5;241;43m.\u001b[39;49m\u001b[43m_wait\u001b[49m\u001b[43m(\u001b[49m\u001b[38;5;28;43mself\u001b[39;49m\u001b[38;5;241;43m.\u001b[39;49m\u001b[43mdevice\u001b[49m\u001b[38;5;241;43m.\u001b[39;49m\u001b[43m_start_notify\u001b[49m\u001b[43m(\u001b[49m\u001b[43muuid\u001b[49m\u001b[43m,\u001b[49m\u001b[43m \u001b[49m\u001b[43mnotification_handler\u001b[49m\u001b[43m)\u001b[49m\u001b[43m)\u001b[49m\n",
      "File \u001b[0;32m~/Documents/python/cornell/mae4190/ble_python/base_ble.py:27\u001b[0m, in \u001b[0;36mwait_b\u001b[0;34m(coroutine)\u001b[0m\n\u001b[1;32m     26\u001b[0m \u001b[38;5;28;01mdef\u001b[39;00m \u001b[38;5;21mwait_b\u001b[39m(coroutine):\n\u001b[0;32m---> 27\u001b[0m     \u001b[38;5;28;01mreturn\u001b[39;00m \u001b[43masyncio\u001b[49m\u001b[38;5;241;43m.\u001b[39;49m\u001b[43mrun\u001b[49m\u001b[43m(\u001b[49m\u001b[43mcoroutine\u001b[49m\u001b[43m)\u001b[49m\n",
      "File \u001b[0;32m/Library/Frameworks/Python.framework/Versions/3.12/lib/python3.12/site-packages/nest_asyncio.py:30\u001b[0m, in \u001b[0;36m_patch_asyncio.<locals>.run\u001b[0;34m(main, debug)\u001b[0m\n\u001b[1;32m     28\u001b[0m task \u001b[38;5;241m=\u001b[39m asyncio\u001b[38;5;241m.\u001b[39mensure_future(main)\n\u001b[1;32m     29\u001b[0m \u001b[38;5;28;01mtry\u001b[39;00m:\n\u001b[0;32m---> 30\u001b[0m     \u001b[38;5;28;01mreturn\u001b[39;00m \u001b[43mloop\u001b[49m\u001b[38;5;241;43m.\u001b[39;49m\u001b[43mrun_until_complete\u001b[49m\u001b[43m(\u001b[49m\u001b[43mtask\u001b[49m\u001b[43m)\u001b[49m\n\u001b[1;32m     31\u001b[0m \u001b[38;5;28;01mfinally\u001b[39;00m:\n\u001b[1;32m     32\u001b[0m     \u001b[38;5;28;01mif\u001b[39;00m \u001b[38;5;129;01mnot\u001b[39;00m task\u001b[38;5;241m.\u001b[39mdone():\n",
      "File \u001b[0;32m/Library/Frameworks/Python.framework/Versions/3.12/lib/python3.12/site-packages/nest_asyncio.py:98\u001b[0m, in \u001b[0;36m_patch_loop.<locals>.run_until_complete\u001b[0;34m(self, future)\u001b[0m\n\u001b[1;32m     95\u001b[0m \u001b[38;5;28;01mif\u001b[39;00m \u001b[38;5;129;01mnot\u001b[39;00m f\u001b[38;5;241m.\u001b[39mdone():\n\u001b[1;32m     96\u001b[0m     \u001b[38;5;28;01mraise\u001b[39;00m \u001b[38;5;167;01mRuntimeError\u001b[39;00m(\n\u001b[1;32m     97\u001b[0m         \u001b[38;5;124m'\u001b[39m\u001b[38;5;124mEvent loop stopped before Future completed.\u001b[39m\u001b[38;5;124m'\u001b[39m)\n\u001b[0;32m---> 98\u001b[0m \u001b[38;5;28;01mreturn\u001b[39;00m \u001b[43mf\u001b[49m\u001b[38;5;241;43m.\u001b[39;49m\u001b[43mresult\u001b[49m\u001b[43m(\u001b[49m\u001b[43m)\u001b[49m\n",
      "File \u001b[0;32m/Library/Frameworks/Python.framework/Versions/3.12/lib/python3.12/asyncio/futures.py:203\u001b[0m, in \u001b[0;36mFuture.result\u001b[0;34m(self)\u001b[0m\n\u001b[1;32m    201\u001b[0m \u001b[38;5;28mself\u001b[39m\u001b[38;5;241m.\u001b[39m__log_traceback \u001b[38;5;241m=\u001b[39m \u001b[38;5;28;01mFalse\u001b[39;00m\n\u001b[1;32m    202\u001b[0m \u001b[38;5;28;01mif\u001b[39;00m \u001b[38;5;28mself\u001b[39m\u001b[38;5;241m.\u001b[39m_exception \u001b[38;5;129;01mis\u001b[39;00m \u001b[38;5;129;01mnot\u001b[39;00m \u001b[38;5;28;01mNone\u001b[39;00m:\n\u001b[0;32m--> 203\u001b[0m     \u001b[38;5;28;01mraise\u001b[39;00m \u001b[38;5;28mself\u001b[39m\u001b[38;5;241m.\u001b[39m_exception\u001b[38;5;241m.\u001b[39mwith_traceback(\u001b[38;5;28mself\u001b[39m\u001b[38;5;241m.\u001b[39m_exception_tb)\n\u001b[1;32m    204\u001b[0m \u001b[38;5;28;01mreturn\u001b[39;00m \u001b[38;5;28mself\u001b[39m\u001b[38;5;241m.\u001b[39m_result\n",
      "File \u001b[0;32m/Library/Frameworks/Python.framework/Versions/3.12/lib/python3.12/asyncio/tasks.py:314\u001b[0m, in \u001b[0;36mTask.__step_run_and_handle_result\u001b[0;34m(***failed resolving arguments***)\u001b[0m\n\u001b[1;32m    310\u001b[0m \u001b[38;5;28;01mtry\u001b[39;00m:\n\u001b[1;32m    311\u001b[0m     \u001b[38;5;28;01mif\u001b[39;00m exc \u001b[38;5;129;01mis\u001b[39;00m \u001b[38;5;28;01mNone\u001b[39;00m:\n\u001b[1;32m    312\u001b[0m         \u001b[38;5;66;03m# We use the `send` method directly, because coroutines\u001b[39;00m\n\u001b[1;32m    313\u001b[0m         \u001b[38;5;66;03m# don't have `__iter__` and `__next__` methods.\u001b[39;00m\n\u001b[0;32m--> 314\u001b[0m         result \u001b[38;5;241m=\u001b[39m \u001b[43mcoro\u001b[49m\u001b[38;5;241;43m.\u001b[39;49m\u001b[43msend\u001b[49m\u001b[43m(\u001b[49m\u001b[38;5;28;43;01mNone\u001b[39;49;00m\u001b[43m)\u001b[49m\n\u001b[1;32m    315\u001b[0m     \u001b[38;5;28;01melse\u001b[39;00m:\n\u001b[1;32m    316\u001b[0m         result \u001b[38;5;241m=\u001b[39m coro\u001b[38;5;241m.\u001b[39mthrow(exc)\n",
      "File \u001b[0;32m~/Documents/python/cornell/mae4190/ble_python/base_ble.py:129\u001b[0m, in \u001b[0;36mBLEAsyncDevice._start_notify\u001b[0;34m(self, uuid, notification_handler)\u001b[0m\n\u001b[1;32m    127\u001b[0m \u001b[38;5;28;01masync\u001b[39;00m \u001b[38;5;28;01mdef\u001b[39;00m \u001b[38;5;21m_start_notify\u001b[39m(\u001b[38;5;28mself\u001b[39m, uuid, notification_handler):\n\u001b[1;32m    128\u001b[0m     \u001b[38;5;28;01mif\u001b[39;00m \u001b[38;5;28mself\u001b[39m\u001b[38;5;241m.\u001b[39mclient \u001b[38;5;129;01mand\u001b[39;00m \u001b[38;5;28mself\u001b[39m\u001b[38;5;241m.\u001b[39mclient\u001b[38;5;241m.\u001b[39mis_connected:\n\u001b[0;32m--> 129\u001b[0m         \u001b[38;5;28;01mawait\u001b[39;00m \u001b[38;5;28mself\u001b[39m\u001b[38;5;241m.\u001b[39mclient\u001b[38;5;241m.\u001b[39mstart_notify(uuid, notification_handler)\n\u001b[1;32m    130\u001b[0m     \u001b[38;5;28;01melse\u001b[39;00m:\n\u001b[1;32m    131\u001b[0m         \u001b[38;5;28;01mraise\u001b[39;00m \u001b[38;5;167;01mException\u001b[39;00m(\u001b[38;5;124m\"\u001b[39m\u001b[38;5;124mNot connected to a BLE device\u001b[39m\u001b[38;5;124m\"\u001b[39m)\n",
      "File \u001b[0;32m/Library/Frameworks/Python.framework/Versions/3.12/lib/python3.12/site-packages/bleak/__init__.py:844\u001b[0m, in \u001b[0;36mBleakClient.start_notify\u001b[0;34m(self, char_specifier, callback, **kwargs)\u001b[0m\n\u001b[1;32m    841\u001b[0m \u001b[38;5;28;01melse\u001b[39;00m:\n\u001b[1;32m    842\u001b[0m     wrapped_callback \u001b[38;5;241m=\u001b[39m functools\u001b[38;5;241m.\u001b[39mpartial(callback, characteristic)\n\u001b[0;32m--> 844\u001b[0m \u001b[38;5;28;01mawait\u001b[39;00m \u001b[38;5;28mself\u001b[39m\u001b[38;5;241m.\u001b[39m_backend\u001b[38;5;241m.\u001b[39mstart_notify(characteristic, wrapped_callback, \u001b[38;5;241m*\u001b[39m\u001b[38;5;241m*\u001b[39mkwargs)\n",
      "File \u001b[0;32m/Library/Frameworks/Python.framework/Versions/3.12/lib/python3.12/site-packages/bleak/backends/corebluetooth/client.py:364\u001b[0m, in \u001b[0;36mBleakClientCoreBluetooth.start_notify\u001b[0;34m(self, characteristic, callback, **kwargs)\u001b[0m\n\u001b[1;32m    359\u001b[0m \u001b[38;5;250m\u001b[39m\u001b[38;5;124;03m\"\"\"\u001b[39;00m\n\u001b[1;32m    360\u001b[0m \u001b[38;5;124;03mActivate notifications/indications on a characteristic.\u001b[39;00m\n\u001b[1;32m    361\u001b[0m \u001b[38;5;124;03m\"\"\"\u001b[39;00m\n\u001b[1;32m    362\u001b[0m \u001b[38;5;28;01massert\u001b[39;00m \u001b[38;5;28mself\u001b[39m\u001b[38;5;241m.\u001b[39m_delegate \u001b[38;5;129;01mis\u001b[39;00m \u001b[38;5;129;01mnot\u001b[39;00m \u001b[38;5;28;01mNone\u001b[39;00m\n\u001b[0;32m--> 364\u001b[0m \u001b[38;5;28;01mawait\u001b[39;00m \u001b[38;5;28mself\u001b[39m\u001b[38;5;241m.\u001b[39m_delegate\u001b[38;5;241m.\u001b[39mstart_notifications(characteristic\u001b[38;5;241m.\u001b[39mobj, callback)\n",
      "File \u001b[0;32m/Library/Frameworks/Python.framework/Versions/3.12/lib/python3.12/site-packages/bleak/backends/corebluetooth/PeripheralDelegate.py:221\u001b[0m, in \u001b[0;36mPeripheralDelegate.start_notifications\u001b[0;34m(self, characteristic, callback)\u001b[0m\n\u001b[1;32m    219\u001b[0m c_handle \u001b[38;5;241m=\u001b[39m characteristic\u001b[38;5;241m.\u001b[39mhandle()\n\u001b[1;32m    220\u001b[0m \u001b[38;5;28;01mif\u001b[39;00m c_handle \u001b[38;5;129;01min\u001b[39;00m \u001b[38;5;28mself\u001b[39m\u001b[38;5;241m.\u001b[39m_characteristic_notify_callbacks:\n\u001b[0;32m--> 221\u001b[0m     \u001b[38;5;28;01mraise\u001b[39;00m \u001b[38;5;167;01mValueError\u001b[39;00m(\u001b[38;5;124m\"\u001b[39m\u001b[38;5;124mCharacteristic notifications already started\u001b[39m\u001b[38;5;124m\"\u001b[39m)\n\u001b[1;32m    223\u001b[0m \u001b[38;5;28mself\u001b[39m\u001b[38;5;241m.\u001b[39m_characteristic_notify_callbacks[c_handle] \u001b[38;5;241m=\u001b[39m callback\n\u001b[1;32m    225\u001b[0m future \u001b[38;5;241m=\u001b[39m \u001b[38;5;28mself\u001b[39m\u001b[38;5;241m.\u001b[39m_event_loop\u001b[38;5;241m.\u001b[39mcreate_future()\n",
      "\u001b[0;31mValueError\u001b[0m: Characteristic notifications already started"
     ]
    }
   ],
   "source": [
    "# Notification Handler\n",
    "def notification_handler(uuid, byte_array):\n",
    "    timestamp = ble.bytearray_to_string(byte_array)[2:]\n",
    "    print('Time:', timestamp)\n",
    "\n",
    "ble.start_notify(ble.uuid['RX_STRING'], notification_handler)"
   ]
  },
  {
   "cell_type": "code",
   "execution_count": 50,
   "metadata": {},
   "outputs": [
    {
     "name": "stdout",
     "output_type": "stream",
     "text": [
      "0 Time: 47577\n",
      "0 Time: 47636\n",
      "0 Time: 47697\n"
     ]
    }
   ],
   "source": [
    "ble.send_command(CMD.GET_TIME_MILLIS, \"\")\n",
    "ble.send_command(CMD.GET_TIME_MILLIS, \"\")\n",
    "ble.send_command(CMD.GET_TIME_MILLIS, \"\")"
   ]
  },
  {
   "cell_type": "code",
   "execution_count": 53,
   "metadata": {},
   "outputs": [
    {
     "name": "stdout",
     "output_type": "stream",
     "text": [
      "0 Time: 140272\n",
      "0 Time: 140272\n",
      "0 Time: 140272\n",
      "0 Time: 140273\n",
      "0 Time: 140273\n",
      "0 Time: 140273\n",
      "0 Time: 140273\n",
      "0 Time: 140306\n",
      "0 Time: 140306\n",
      "0 Time: 140306\n",
      "0 Time: 140307\n",
      "0 Time: 140307\n",
      "0 Time: 140337\n",
      "0 Time: 140337\n",
      "0 Time: 140337\n",
      "0 Time: 140338\n",
      "0 Time: 140338\n",
      "0 Time: 140368\n",
      "0 Time: 140368\n",
      "0 Time: 140368\n",
      "0 Time: 140369\n",
      "0 Time: 140369\n",
      "0 Time: 140369\n",
      "0 Time: 140393\n",
      "0 Time: 140393\n",
      "0 Time: 140393\n",
      "0 Time: 140394\n",
      "0 Time: 140394\n",
      "0 Time: 140424\n",
      "0 Time: 140424\n",
      "0 Time: 140424\n",
      "0 Time: 140425\n",
      "0 Time: 140425\n",
      "0 Time: 140455\n",
      "0 Time: 140455\n",
      "0 Time: 140455\n",
      "0 Time: 140456\n",
      "0 Time: 140456\n",
      "0 Time: 140486\n",
      "0 Time: 140486\n",
      "0 Time: 140486\n",
      "0 Time: 140487\n",
      "0 Time: 140487\n",
      "0 Time: 140487\n",
      "0 Time: 140516\n",
      "0 Time: 140516\n",
      "0 Time: 140517\n",
      "0 Time: 140517\n",
      "0 Time: 140517\n",
      "0 Time: 140548\n",
      "0 Time: 140548\n",
      "0 Time: 140548\n",
      "0 Time: 140549\n",
      "0 Time: 140549\n",
      "0 Time: 140549\n",
      "0 Time: 140573\n",
      "0 Time: 140573\n",
      "0 Time: 140573\n",
      "0 Time: 140574\n",
      "0 Time: 140574\n",
      "0 Time: 140603\n",
      "0 Time: 140603\n",
      "0 Time: 140604\n",
      "0 Time: 140604\n",
      "0 Time: 140604\n",
      "0 Time: 140635\n",
      "0 Time: 140635\n",
      "0 Time: 140635\n",
      "0 Time: 140636\n",
      "0 Time: 140636\n",
      "0 Time: 140636\n",
      "0 Time: 140666\n",
      "0 Time: 140666\n",
      "0 Time: 140666\n",
      "0 Time: 140667\n",
      "0 Time: 140667\n",
      "0 Time: 140691\n",
      "0 Time: 140691\n",
      "0 Time: 140691\n",
      "0 Time: 140699\n",
      "0 Time: 140699\n",
      "0 Time: 140727\n",
      "0 Time: 140727\n",
      "0 Time: 140727\n",
      "0 Time: 140728\n",
      "0 Time: 140728\n",
      "0 Time: 140728\n",
      "0 Time: 140752\n",
      "0 Time: 140752\n",
      "0 Time: 140752\n",
      "0 Time: 140753\n",
      "0 Time: 140753\n",
      "0 Time: 140783\n",
      "0 Time: 140783\n",
      "0 Time: 140783\n",
      "0 Time: 140784\n",
      "0 Time: 140784\n",
      "0 Time: 140817\n",
      "0 Time: 140817\n",
      "0 Time: 140817\n",
      "0 Time: 140818\n",
      "0 Time: 140818\n",
      "0 Time: 140843\n",
      "0 Time: 140843\n",
      "0 Time: 140844\n",
      "0 Time: 140844\n",
      "0 Time: 140844\n",
      "0 Time: 140844\n",
      "0 Time: 140869\n",
      "0 Time: 140879\n",
      "0 Time: 140879\n",
      "0 Time: 140879\n",
      "0 Time: 140880\n",
      "0 Time: 140903\n",
      "0 Time: 140903\n",
      "0 Time: 140904\n",
      "0 Time: 140904\n",
      "0 Time: 140904\n",
      "0 Time: 140932\n",
      "0 Time: 140933\n",
      "0 Time: 140933\n",
      "0 Time: 140933\n",
      "0 Time: 140933\n",
      "0 Time: 140933\n",
      "0 Time: 140966\n",
      "0 Time: 140966\n",
      "0 Time: 140966\n",
      "0 Time: 140967\n",
      "0 Time: 140967\n",
      "0 Time: 140991\n",
      "0 Time: 140991\n",
      "0 Time: 140991\n",
      "0 Time: 140992\n",
      "0 Time: 140999\n",
      "0 Time: 141027\n",
      "0 Time: 141027\n",
      "0 Time: 141027\n",
      "0 Time: 141028\n",
      "0 Time: 141028\n",
      "0 Time: 141028\n",
      "0 Time: 141054\n",
      "0 Time: 141054\n",
      "0 Time: 141054\n",
      "0 Time: 141055\n",
      "0 Time: 141055\n",
      "0 Time: 141079\n",
      "0 Time: 141087\n",
      "0 Time: 141087\n",
      "0 Time: 141088\n",
      "0 Time: 141088\n",
      "0 Time: 141113\n",
      "0 Time: 141113\n",
      "0 Time: 141113\n",
      "0 Time: 141114\n",
      "0 Time: 141114\n",
      "0 Time: 141140\n",
      "0 Time: 141140\n",
      "0 Time: 141140\n",
      "0 Time: 141149\n",
      "0 Time: 141149\n",
      "0 Time: 141170\n",
      "0 Time: 141170\n",
      "0 Time: 141204\n",
      "0 Time: 141204\n",
      "0 Time: 141204\n",
      "0 Time: 141205\n",
      "0 Time: 141229\n",
      "0 Time: 141237\n",
      "0 Time: 141237\n",
      "0 Time: 141261\n",
      "0 Time: 141261\n",
      "0 Time: 141262\n",
      "0 Time: 141291\n",
      "0 Time: 141291\n",
      "0 Time: 141292\n",
      "0 Time: 141292\n",
      "0 Time: 141320\n",
      "0 Time: 141320\n",
      "0 Time: 141356\n",
      "0 Time: 141356\n",
      "0 Time: 141356\n",
      "0 Time: 141357\n",
      "0 Time: 141380\n",
      "0 Time: 141380\n",
      "0 Time: 141381\n",
      "0 Time: 141411\n",
      "0 Time: 141411\n",
      "0 Time: 141411\n",
      "0 Time: 141446\n",
      "0 Time: 141446\n",
      "0 Time: 141446\n",
      "0 Time: 141471\n",
      "0 Time: 141471\n",
      "0 Time: 141471\n",
      "0 Time: 141505\n",
      "0 Time: 141505\n",
      "0 Time: 141506\n",
      "0 Time: 141531\n",
      "0 Time: 141531\n",
      "0 Time: 141531\n",
      "0 Time: 141564\n",
      "0 Time: 141564\n",
      "0 Time: 141565\n",
      "0 Time: 141592\n",
      "0 Time: 141592\n",
      "0 Time: 141592\n",
      "0 Time: 141619\n",
      "0 Time: 141619\n",
      "0 Time: 141619\n",
      "0 Time: 141652\n",
      "0 Time: 141652\n",
      "0 Time: 141652\n",
      "0 Time: 141680\n",
      "0 Time: 141680\n",
      "0 Time: 141681\n",
      "0 Time: 141712\n",
      "0 Time: 141712\n",
      "0 Time: 141712\n",
      "0 Time: 141737\n",
      "0 Time: 141746\n",
      "0 Time: 141746\n",
      "0 Time: 141772\n",
      "0 Time: 141772\n",
      "0 Time: 141772\n",
      "0 Time: 141803\n",
      "0 Time: 141803\n",
      "0 Time: 141803\n",
      "0 Time: 141804\n",
      "0 Time: 141832\n",
      "0 Time: 141832\n",
      "0 Time: 141863\n",
      "0 Time: 141863\n",
      "0 Time: 141863\n",
      "0 Time: 141864\n",
      "0 Time: 141888\n",
      "0 Time: 141896\n",
      "0 Time: 141896\n",
      "0 Time: 141924\n",
      "0 Time: 141924\n",
      "0 Time: 141924\n",
      "0 Time: 141950\n",
      "0 Time: 141950\n",
      "0 Time: 141951\n",
      "0 Time: 141951\n",
      "0 Time: 141984\n",
      "0 Time: 141984\n",
      "0 Time: 142014\n",
      "0 Time: 142014\n",
      "0 Time: 142014\n",
      "0 Time: 142015\n",
      "0 Time: 142045\n",
      "0 Time: 142045\n",
      "0 Time: 142045\n",
      "0 Time: 142070\n",
      "0 Time: 142070\n",
      "0 Time: 142070\n",
      "0 Time: 142097\n",
      "0 Time: 142103\n",
      "0 Time: 142103\n",
      "0 Time: 142133\n",
      "0 Time: 142133\n",
      "0 Time: 142134\n",
      "0 Time: 142159\n",
      "0 Time: 142159\n",
      "0 Time: 142159\n",
      "0 Time: 142160\n",
      "0 Time: 142191\n",
      "0 Time: 142191\n",
      "0 Time: 142217\n",
      "0 Time: 142227\n",
      "0 Time: 142227\n",
      "0 Time: 142227\n",
      "0 Time: 142252\n",
      "0 Time: 142252\n",
      "0 Time: 142252\n"
     ]
    }
   ],
   "source": [
    "# sends about 2K bytes/sec\n",
    "ble.send_command(CMD.GET_TIME_MILLIS_LOOP, \"\")"
   ]
  },
  {
   "cell_type": "code",
   "execution_count": 84,
   "metadata": {},
   "outputs": [
    {
     "name": "stdout",
     "output_type": "stream",
     "text": [
      "T:58144129\n",
      "T:58144254\n",
      "T:58144371\n",
      "[58144487, 58144607, 58144727, 58144847, 58144969, 58145093, 58145211, 58145328, 58145447, 58145568] [119, 120, 120, 120, 122, 124, 118, 117, 119, 121]\n"
     ]
    }
   ],
   "source": [
    "ble.send_command(CMD.GET_TIME_MILLIS, \"\")\n",
    "print(ble.receive_string(ble.uuid['RX_STRING']))\n",
    "\n",
    "timestamps = []\n",
    "diffs = []\n",
    "time_prev = 0\n",
    "for i in range(10):\n",
    "    ble.send_command(CMD.GET_TIME_MILLIS, \"\")\n",
    "    timestamp = int(ble.receive_string(ble.uuid['RX_STRING'])[2:])\n",
    "    if time_prev != 0:\n",
    "        diff = timestamp - time_prev\n",
    "    diffs.append(diff)\n",
    "    timestamps.append(timestamp)\n",
    "    time_prev = timestamp\n",
    "print(timestamps, diffs)"
   ]
  },
  {
   "cell_type": "markdown",
   "metadata": {},
   "source": [
    "## Disconnect"
   ]
  },
  {
   "cell_type": "code",
   "execution_count": 40,
   "metadata": {
    "tags": []
   },
   "outputs": [
    {
     "name": "stdout",
     "output_type": "stream",
     "text": [
      "2024-07-31 21:42:28,556 |\u001b[32m INFO     \u001b[0m|: Disconnected from E8E0F7A4-7773-8749-3CAD-EADBED93F90E\n"
     ]
    }
   ],
   "source": [
    "# Disconnect\n",
    "ble.disconnect()"
   ]
  },
  {
   "cell_type": "code",
   "execution_count": null,
   "metadata": {},
   "outputs": [],
   "source": []
  }
 ],
 "metadata": {
  "kernelspec": {
   "display_name": "Python 3 (ipykernel)",
   "language": "python",
   "name": "python3"
  },
  "language_info": {
   "codemirror_mode": {
    "name": "ipython",
    "version": 3
   },
   "file_extension": ".py",
   "mimetype": "text/x-python",
   "name": "python",
   "nbconvert_exporter": "python",
   "pygments_lexer": "ipython3",
   "version": "3.12.2"
  }
 },
 "nbformat": 4,
 "nbformat_minor": 4
}
