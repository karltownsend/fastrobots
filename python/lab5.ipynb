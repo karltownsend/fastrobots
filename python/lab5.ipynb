{
 "cells": [
  {
   "cell_type": "markdown",
   "metadata": {},
   "source": [
    "## Lab 5 - PID control\n",
    "Run this cell before running any other cells"
   ]
  },
  {
   "cell_type": "code",
   "execution_count": 1260,
   "metadata": {},
   "outputs": [
    {
     "name": "stdout",
     "output_type": "stream",
     "text": [
      "2025-04-16 19:08:58,887 |\u001b[32m INFO     \u001b[0m|: Looking for Artemis Nano Peripheral Device: c0:ec:f2:c2:23:04\n",
      "2025-04-16 19:09:01,866 |\u001b[32m INFO     \u001b[0m|: Connected to c0:ec:f2:c2:23:04\n",
      "T:46750\n"
     ]
    }
   ],
   "source": [
    "%reload_ext autoreload\n",
    "%autoreload 2\n",
    "\n",
    "from ble import get_ble_controller\n",
    "from base_ble import LOG\n",
    "from cmd_types import CMD\n",
    "import time\n",
    "import numpy as np\n",
    "import matplotlib.pyplot as plt\n",
    "\n",
    "LOG.propagate = False\n",
    "\n",
    "# Notification Handler\n",
    "def notification_handler(uuid, byte_array):\n",
    "    global time_list, dist, pid, pwm, p, i, d\n",
    "    rx_string = ble.bytearray_to_string(byte_array)\n",
    "#    print(rx_string)\n",
    "    if rx_string.find(',') < 0:\n",
    "        print(rx_string)\n",
    "    else:\n",
    "        time, a, b, c, kp, ki, kd = rx_string.split(',')\n",
    "        time_sec = float(time[2:])/1000\n",
    "        time_list.append(time_sec)\n",
    "        dist.append(float(a[3:]))\n",
    "        pid.append(float(b[3:]))\n",
    "        pwm.append(float(c[3:]))\n",
    "        p.append(float(kp[3:]))\n",
    "        i.append(float(ki[3:]))\n",
    "        d.append(float(kd[3:]))\n",
    "        \n",
    "ble = get_ble_controller()\n",
    "ble.connect()\n",
    "\n",
    "while not ble.is_connected():\n",
    "    pass\n",
    "\n",
    "ble.start_notify(ble.uuid['RX_STRING'], notification_handler)\n",
    "ble.send_command(CMD.GET_TIME_MILLIS, \"\")"
   ]
  },
  {
   "cell_type": "code",
   "execution_count": 1315,
   "metadata": {},
   "outputs": [
    {
     "name": "stdout",
     "output_type": "stream",
     "text": [
      "KP:0.200 KI:0.001 KD:70.000 PWM_MAX:140 DEADZONE:30 WALL_DIST:305.000 CORRECTION:1.100\n"
     ]
    }
   ],
   "source": [
    "# Ku = 0.15-0.2\n",
    "# Pu = 0.4 sec\n",
    "# \n",
    "# Kp = 0.6 * Ku = .12\n",
    "# Ki = 2 * Kp / Pu = 0.6\n",
    "# Kd = Kp * Pu / 8 = 0.006\n",
    "#ble.send_command(CMD.SET_PID_MAX, \"0.12|0.6|0.006|100|25|304|1.1\")\n",
    "#ble.send_command(CMD.SET_PID_MAX, \"0.2|0.001|70|140|30|305|1.1\") best performance as of 4-16-2025\n",
    "ble.send_command(CMD.SET_PID_MAX, \"0.2|0.001|70|140|30|305|1.1\")"
   ]
  },
  {
   "cell_type": "code",
   "execution_count": 1316,
   "metadata": {},
   "outputs": [
    {
     "name": "stdout",
     "output_type": "stream",
     "text": [
      "KP:0.200 KI:0.001 KD:70.000 PWM_MAX:140 DEADZONE:30 CORRECTION:1.200 WALL_DIST:305.000\n",
      "  Finished Go Wall ... 777\n",
      "2025-04-16 19:29:56,659 |\u001b[32m INFO     \u001b[0m|: Disconnected from E8E0F7A4-7773-8749-3CAD-EADBED93F90E\n"
     ]
    }
   ],
   "source": [
    "ble.send_command(CMD.GO_WALL, \"305\")"
   ]
  },
  {
   "cell_type": "code",
   "execution_count": 1312,
   "metadata": {},
   "outputs": [
    {
     "name": "stdout",
     "output_type": "stream",
     "text": [
      "  Sending PID data ...\n",
      "  Data sent!\n"
     ]
    }
   ],
   "source": [
    "# Clear the data\n",
    "time_list = []\n",
    "dist = []\n",
    "pid = []\n",
    "pwm = []\n",
    "p = []\n",
    "i = []\n",
    "d = []\n",
    "\n",
    "# send the command\n",
    "ble.send_command(CMD.GET_WALL_DATA, \"\")"
   ]
  },
  {
   "cell_type": "code",
   "execution_count": 1,
   "metadata": {},
   "outputs": [
    {
     "ename": "NameError",
     "evalue": "name 'time_list' is not defined",
     "output_type": "error",
     "traceback": [
      "\u001b[0;31m---------------------------------------------------------------------------\u001b[0m",
      "\u001b[0;31mNameError\u001b[0m                                 Traceback (most recent call last)",
      "Cell \u001b[0;32mIn[1], line 2\u001b[0m\n\u001b[1;32m      1\u001b[0m \u001b[38;5;66;03m#plt.yticks([-180, -120, -60, 0, 60, 120, 180])\u001b[39;00m\n\u001b[0;32m----> 2\u001b[0m count \u001b[38;5;241m=\u001b[39m \u001b[38;5;28mlen\u001b[39m(\u001b[43mtime_list\u001b[49m)\n\u001b[1;32m      3\u001b[0m total \u001b[38;5;241m=\u001b[39m count \u001b[38;5;241m-\u001b[39m \u001b[38;5;241m1\u001b[39m\n\u001b[1;32m      4\u001b[0m delta \u001b[38;5;241m=\u001b[39m \u001b[38;5;28mround\u001b[39m(time_list[total\u001b[38;5;241m-\u001b[39m\u001b[38;5;241m1\u001b[39m] \u001b[38;5;241m-\u001b[39m time_list[\u001b[38;5;241m0\u001b[39m], \u001b[38;5;241m2\u001b[39m)\n",
      "\u001b[0;31mNameError\u001b[0m: name 'time_list' is not defined"
     ]
    }
   ],
   "source": [
    "#plt.yticks([-180, -120, -60, 0, 60, 120, 180])\n",
    "count = len(time_list)\n",
    "total = count - 1\n",
    "delta = round(time_list[total-1] - time_list[0], 2)\n",
    "\n",
    "print(count, 'samples in', delta, 'seconds')\n",
    "\n",
    "plt.figure()\n",
    "plt.title('Distance (mm)')\n",
    "plt.xlabel('Time')\n",
    "#plt.ylabel('Distance (mm)')\n",
    "plt.axhline(305)\n",
    "plt.plot(time_list[:total], dist[:total], color='r', label='dist')\n",
    "\n",
    "plt.figure()\n",
    "plt.title('PID and PWM')\n",
    "plt.xlabel('Time')\n",
    "#plt.ylabel('PID and PWM')\n",
    "plt.axhline(0)\n",
    "plt.plot(time_list[10:total],  pid[10:total], color='g', label='pid')\n",
    "plt.plot(time_list[10:total],  pwm[10:total], color='b', label='pwm')\n",
    "plt.legend()\n",
    "\n",
    "plt.figure()\n",
    "plt.title('PID values')\n",
    "plt.xlabel('Time')\n",
    "#plt.ylabel('P, I, D')\n",
    "plt.axhline(0)\n",
    "plt.plot(time_list[:total],  p[:total],  color='c', label='P')\n",
    "plt.plot(time_list[:total],  i[:total],  color='m', label='I')\n",
    "plt.plot(time_list[:total],  d[:total],  color='y', label='D')\n",
    "\n",
    "plt.legend()\n",
    "plt.show()\n",
    "\n",
    "#for j in range(0, total):\n",
    "#    print(time_list[j], dist[j], p[j], i[j], d[j], pid[j], pwm[j])"
   ]
  },
  {
   "cell_type": "code",
   "execution_count": 1314,
   "metadata": {},
   "outputs": [],
   "source": [
    "# Backward 2 seconds\n",
    "ble.send_command(CMD.SET_PWM, \"-50|3000\")"
   ]
  },
  {
   "cell_type": "code",
   "execution_count": 1114,
   "metadata": {},
   "outputs": [],
   "source": [
    "ble.send_command(CMD.GET_RANGE, 200)"
   ]
  },
  {
   "cell_type": "code",
   "execution_count": 148,
   "metadata": {},
   "outputs": [],
   "source": [
    "ble.send_command(CMD.SEND_TWO_INTS, \"2|-6\")"
   ]
  },
  {
   "cell_type": "code",
   "execution_count": 147,
   "metadata": {},
   "outputs": [],
   "source": [
    "ble.send_command(CMD.SEND_THREE_FLOATS, \"1234567890|9876543|0.034567\")"
   ]
  },
  {
   "cell_type": "code",
   "execution_count": 264,
   "metadata": {},
   "outputs": [],
   "source": [
    "# Forward 1 seconds. max speed, then brake hard\n",
    "ble.send_command(CMD.SET_PWM, \"100|0|100|0|1000\")\n",
    "ble.send_command(CMD.SET_PWM, \"255|255|255|255|1000\")"
   ]
  },
  {
   "cell_type": "code",
   "execution_count": 26,
   "metadata": {},
   "outputs": [],
   "source": [
    "# Right motor only\n",
    "ble.send_command(CMD.SET_PWM, \"0|0|50|0|2000\")"
   ]
  },
  {
   "cell_type": "code",
   "execution_count": 27,
   "metadata": {},
   "outputs": [],
   "source": [
    "# Left motor only\n",
    "ble.send_command(CMD.SET_PWM, \"50|0|0|0|2000\")"
   ]
  },
  {
   "cell_type": "code",
   "execution_count": 28,
   "metadata": {},
   "outputs": [],
   "source": [
    "# rotate CCW\n",
    "ble.send_command(CMD.SET_PWM, \"1|250|250|1|2000\")"
   ]
  },
  {
   "cell_type": "code",
   "execution_count": 29,
   "metadata": {},
   "outputs": [],
   "source": [
    "# rotate CW\n",
    "ble.send_command(CMD.SET_PWM, \"250|1|1|250|2000\")"
   ]
  },
  {
   "cell_type": "code",
   "execution_count": 613,
   "metadata": {},
   "outputs": [],
   "source": [
    "# Forward 2 seconds\n",
    "ble.send_command(CMD.SET_PWM, \"40|3300\")"
   ]
  },
  {
   "cell_type": "code",
   "execution_count": 579,
   "metadata": {},
   "outputs": [],
   "source": [
    "# stop\n",
    "ble.send_command(CMD.SET_PWM, \"0|0|0|0|0\")"
   ]
  },
  {
   "cell_type": "code",
   "execution_count": 33,
   "metadata": {},
   "outputs": [],
   "source": [
    "# slowest forward\n",
    "ble.send_command(CMD.SET_PWM, \"40|00|40|00|2000\")"
   ]
  },
  {
   "cell_type": "code",
   "execution_count": 34,
   "metadata": {},
   "outputs": [],
   "source": [
    "# slowest reverse\n",
    "ble.send_command(CMD.SET_PWM, \"00|80|00|80|2000\")"
   ]
  },
  {
   "cell_type": "code",
   "execution_count": 35,
   "metadata": {},
   "outputs": [],
   "source": [
    "# slowest turn\n",
    "ble.send_command(CMD.SET_PWM, \"00|80|80|0|2000\")"
   ]
  },
  {
   "cell_type": "markdown",
   "metadata": {},
   "source": [
    "## Disconnect"
   ]
  },
  {
   "cell_type": "code",
   "execution_count": 36,
   "metadata": {
    "tags": []
   },
   "outputs": [
    {
     "name": "stdout",
     "output_type": "stream",
     "text": [
      "2025-02-26 14:10:02,313 |\u001b[32m INFO     \u001b[0m|: Disconnected from E8E0F7A4-7773-8749-3CAD-EADBED93F90E\n"
     ]
    }
   ],
   "source": [
    "# Disconnect\n",
    "ble.disconnect()"
   ]
  }
 ],
 "metadata": {
  "kernelspec": {
   "display_name": "Python 3 (ipykernel)",
   "language": "python",
   "name": "python3"
  },
  "language_info": {
   "codemirror_mode": {
    "name": "ipython",
    "version": 3
   },
   "file_extension": ".py",
   "mimetype": "text/x-python",
   "name": "python",
   "nbconvert_exporter": "python",
   "pygments_lexer": "ipython3",
   "version": "3.12.2"
  }
 },
 "nbformat": 4,
 "nbformat_minor": 4
}
