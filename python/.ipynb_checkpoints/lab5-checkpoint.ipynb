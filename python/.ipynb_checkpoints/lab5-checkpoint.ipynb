{
 "cells": [
  {
   "cell_type": "markdown",
   "metadata": {},
   "source": [
    "## Lab 5 - PID control\n",
    "Run this cell before running any other cells"
   ]
  },
  {
   "cell_type": "code",
   "execution_count": null,
   "metadata": {},
   "outputs": [],
   "source": [
    "%reload_ext autoreload\n",
    "%autoreload 2\n",
    "\n",
    "from ble import get_ble_controller\n",
    "from base_ble import LOG\n",
    "from cmd_types import CMD\n",
    "import time\n",
    "import numpy as np\n",
    "import matplotlib.pyplot as plt\n",
    "\n",
    "LOG.propagate = False\n",
    "\n",
    "ble = get_ble_controller()\n",
    "ble.connect()"
   ]
  },
  {
   "cell_type": "code",
   "execution_count": null,
   "metadata": {},
   "outputs": [],
   "source": [
    "# Notification Handler\n",
    "def notification_handler(uuid, byte_array):\n",
    "    global time_list, dist, pid, pwm, p, i, d\n",
    "    rx_string = ble.bytearray_to_string(byte_array)\n",
    "#    print(rx_string)\n",
    "    if rx_string.find(',') < 0:\n",
    "        print(rx_string)\n",
    "    else:\n",
    "        time, a, b, c, kp, ki, kd = rx_string.split(',')\n",
    "        time_sec = float(time[2:])/1000\n",
    "        time_list.append(time_sec)\n",
    "        dist.append(float(a[3:]))\n",
    "        pid.append(float(b[3:]))\n",
    "        pwm.append(float(c[3:]))\n",
    "        p.append(float(kp[3:]))\n",
    "        i.append(float(ki[3:]))\n",
    "        d.append(float(kd[3:]))\n",
    "        \n",
    "ble.start_notify(ble.uuid['RX_STRING'], notification_handler)"
   ]
  },
  {
   "cell_type": "code",
   "execution_count": null,
   "metadata": {},
   "outputs": [],
   "source": [
    "ble.send_command(CMD.GET_TIME_MILLIS, \"\")"
   ]
  },
  {
   "cell_type": "code",
   "execution_count": null,
   "metadata": {},
   "outputs": [],
   "source": [
    "ble.send_command(CMD.SEND_THREE_FLOATS, \"1234567890|9876543|0.034567\")"
   ]
  },
  {
   "cell_type": "code",
   "execution_count": null,
   "metadata": {},
   "outputs": [],
   "source": [
    "ble.send_command(CMD.SEND_TWO_INTS, \"2|-6\")"
   ]
  },
  {
   "cell_type": "code",
   "execution_count": null,
   "metadata": {},
   "outputs": [],
   "source": [
    "# Ku = 0.15-0.2\n",
    "# Pu = 0.4 sec\n",
    "# \n",
    "# Kp = 0.6 * Ku = .12\n",
    "# Ki = 2 * Kp / Pu = 0.6\n",
    "# Kd = Kp * Pu / 8 = 0.006\n",
    "ble.send_command(CMD.SET_PID_MAX, \"0.3|0.0001|0.001|50|40\")"
   ]
  },
  {
   "cell_type": "code",
   "execution_count": null,
   "metadata": {},
   "outputs": [],
   "source": [
    "# Backward 2 seconds\n",
    "ble.send_command(CMD.SET_PWM, \"0|75|0|75|2000\")"
   ]
  },
  {
   "cell_type": "code",
   "execution_count": null,
   "metadata": {},
   "outputs": [],
   "source": [
    "ble.send_command(CMD.GO_WALL, \"\")"
   ]
  },
  {
   "cell_type": "code",
   "execution_count": null,
   "metadata": {},
   "outputs": [],
   "source": [
    "# Clear the data\n",
    "time_list = []\n",
    "dist = []\n",
    "pid = []\n",
    "pwm = []\n",
    "p = []\n",
    "i = []\n",
    "d = []\n",
    "\n",
    "# send the command\n",
    "ble.send_command(CMD.GET_WALL_DATA, \"\")"
   ]
  },
  {
   "cell_type": "code",
   "execution_count": null,
   "metadata": {},
   "outputs": [],
   "source": [
    "plt.yticks([-180, -120, -60, 0, 60, 120, 180])\n",
    "count = len(time_list)\n",
    "print(count)\n",
    "    \n",
    "#for i in range(0, 30):\n",
    "#    print(time_list[i], dist[i], pid[i], pwm[i])\n",
    "\n",
    "total = count - 1\n",
    "\n",
    "#plt.plot(time_list[:total], dist[:total], color='r', label='dist')\n",
    "plt.plot(time_list[10:total],  pid[10:total], color='g', label='pid')\n",
    "plt.plot(time_list[10:total],  pwm[10:total], color='b', label='pwm')\n",
    "#plt.plot(time_list[:total],  p[:total],   color='c', label='P')\n",
    "plt.plot(time_list[:total],  i[:total],  color='m', label='I')\n",
    "#plt.plot(time_list[:total],  d[:total],  color='y', label='D')\n",
    "\n",
    "plt.title('PID Controller')\n",
    "plt.xlabel('Time')\n",
    "plt.ylabel('PID and PWM')\n",
    "plt.legend()\n",
    "plt.show()"
   ]
  },
  {
   "cell_type": "code",
   "execution_count": null,
   "metadata": {},
   "outputs": [],
   "source": [
    "# Forward 1 seconds. max speed, then brake hard\n",
    "ble.send_command(CMD.SET_PWM, \"100|0|100|0|1000\")\n",
    "ble.send_command(CMD.SET_PWM, \"255|255|255|255|1000\")"
   ]
  },
  {
   "cell_type": "code",
   "execution_count": null,
   "metadata": {},
   "outputs": [],
   "source": [
    "# Right motor only\n",
    "ble.send_command(CMD.SET_PWM, \"0|0|50|0|2000\")"
   ]
  },
  {
   "cell_type": "code",
   "execution_count": null,
   "metadata": {},
   "outputs": [],
   "source": [
    "# Left motor only\n",
    "ble.send_command(CMD.SET_PWM, \"50|0|0|0|2000\")"
   ]
  },
  {
   "cell_type": "code",
   "execution_count": null,
   "metadata": {},
   "outputs": [],
   "source": [
    "# rotate CCW\n",
    "ble.send_command(CMD.SET_PWM, \"1|250|250|1|2000\")"
   ]
  },
  {
   "cell_type": "code",
   "execution_count": null,
   "metadata": {},
   "outputs": [],
   "source": [
    "# rotate CW\n",
    "ble.send_command(CMD.SET_PWM, \"250|1|1|250|2000\")"
   ]
  },
  {
   "cell_type": "code",
   "execution_count": null,
   "metadata": {},
   "outputs": [],
   "source": [
    "# Forward 2 seconds\n",
    "ble.send_command(CMD.SET_PWM, \"80|0|80|0|2000\")"
   ]
  },
  {
   "cell_type": "code",
   "execution_count": null,
   "metadata": {},
   "outputs": [],
   "source": [
    "# Backward 2 seconds\n",
    "ble.send_command(CMD.SET_PWM, \"0|75|0|75|2000\")"
   ]
  },
  {
   "cell_type": "code",
   "execution_count": null,
   "metadata": {},
   "outputs": [],
   "source": [
    "# stop\n",
    "ble.send_command(CMD.SET_PWM, \"0|0|0|0|0\")"
   ]
  },
  {
   "cell_type": "code",
   "execution_count": null,
   "metadata": {},
   "outputs": [],
   "source": [
    "# slowest forward\n",
    "ble.send_command(CMD.SET_PWM, \"40|00|40|00|2000\")"
   ]
  },
  {
   "cell_type": "code",
   "execution_count": null,
   "metadata": {},
   "outputs": [],
   "source": [
    "# slowest reverse\n",
    "ble.send_command(CMD.SET_PWM, \"00|80|00|80|2000\")"
   ]
  },
  {
   "cell_type": "code",
   "execution_count": null,
   "metadata": {},
   "outputs": [],
   "source": [
    "# slowest turn\n",
    "ble.send_command(CMD.SET_PWM, \"00|80|80|0|2000\")"
   ]
  },
  {
   "cell_type": "markdown",
   "metadata": {},
   "source": [
    "## Disconnect"
   ]
  },
  {
   "cell_type": "code",
   "execution_count": null,
   "metadata": {
    "tags": []
   },
   "outputs": [],
   "source": [
    "# Disconnect\n",
    "ble.disconnect()"
   ]
  },
  {
   "cell_type": "code",
   "execution_count": null,
   "metadata": {},
   "outputs": [],
   "source": []
  }
 ],
 "metadata": {
  "kernelspec": {
   "display_name": "Python 3 (ipykernel)",
   "language": "python",
   "name": "python3"
  },
  "language_info": {
   "codemirror_mode": {
    "name": "ipython",
    "version": 3
   },
   "file_extension": ".py",
   "mimetype": "text/x-python",
   "name": "python",
   "nbconvert_exporter": "python",
   "pygments_lexer": "ipython3",
   "version": "3.12.2"
  }
 },
 "nbformat": 4,
 "nbformat_minor": 4
}
