{
 "cells": [
  {
   "cell_type": "markdown",
   "metadata": {},
   "source": [
    "## Lab 5 - PID control\n",
    "Run this cell before running any other cells"
   ]
  },
  {
   "cell_type": "code",
<<<<<<< Updated upstream
   "execution_count": null,
   "metadata": {},
   "outputs": [],
=======
   "execution_count": 324,
   "metadata": {},
   "outputs": [
    {
     "name": "stdout",
     "output_type": "stream",
     "text": [
      "2024-11-16 17:39:39,826 |\u001b[32m INFO     \u001b[0m|: Looking for Artemis Nano Peripheral Device: c0:ec:f2:c2:23:04\n",
      "2024-11-16 17:39:42,771 |\u001b[32m INFO     \u001b[0m|: Connected to c0:ec:f2:c2:23:04\n"
     ]
    }
   ],
>>>>>>> Stashed changes
   "source": [
    "%reload_ext autoreload\n",
    "%autoreload 2\n",
    "\n",
    "from ble import get_ble_controller\n",
    "from base_ble import LOG\n",
    "from cmd_types import CMD\n",
    "import time\n",
    "import numpy as np\n",
    "import matplotlib.pyplot as plt\n",
    "\n",
    "LOG.propagate = False\n",
    "\n",
    "ble = get_ble_controller()\n",
    "ble.connect()"
   ]
  },
  {
   "cell_type": "code",
<<<<<<< Updated upstream
   "execution_count": null,
=======
   "execution_count": 325,
>>>>>>> Stashed changes
   "metadata": {},
   "outputs": [],
   "source": [
    "# Notification Handler\n",
    "def notification_handler(uuid, byte_array):\n",
    "    global time_list, dist, pid, pwm, p, i, d\n",
    "    rx_string = ble.bytearray_to_string(byte_array)\n",
    "#    print(rx_string)\n",
    "    if rx_string.find(',') < 0:\n",
    "        print(rx_string)\n",
    "    else:\n",
    "        time, a, b, c, kp, ki, kd = rx_string.split(',')\n",
    "        time_sec = float(time[2:])/1000\n",
    "        time_list.append(time_sec)\n",
    "        dist.append(float(a[3:]))\n",
    "        pid.append(float(b[3:]))\n",
    "        pwm.append(float(c[3:]))\n",
    "        p.append(float(kp[3:]))\n",
    "        i.append(float(ki[3:]))\n",
    "        d.append(float(kd[3:]))\n",
    "        \n",
    "ble.start_notify(ble.uuid['RX_STRING'], notification_handler)"
   ]
  },
  {
   "cell_type": "code",
<<<<<<< Updated upstream
   "execution_count": null,
   "metadata": {},
   "outputs": [],
=======
   "execution_count": 326,
   "metadata": {},
   "outputs": [
    {
     "name": "stdout",
     "output_type": "stream",
     "text": [
      "T:40477\n"
     ]
    }
   ],
>>>>>>> Stashed changes
   "source": [
    "ble.send_command(CMD.GET_TIME_MILLIS, \"\")"
   ]
  },
  {
   "cell_type": "code",
<<<<<<< Updated upstream
   "execution_count": null,
   "metadata": {},
   "outputs": [],
   "source": [
    "ble.send_command(CMD.SEND_THREE_FLOATS, \"1234567890|9876543|0.034567\")"
=======
   "execution_count": 199,
   "metadata": {},
   "outputs": [],
   "source": [
    "ble.send_command(CMD.SEND_THREE_FLOATS, \"1234567890|9876543|0.033\")"
   ]
  },
  {
   "cell_type": "code",
   "execution_count": 160,
   "metadata": {},
   "outputs": [],
   "source": [
    "ble.send_command(CMD.SEND_TWO_INTS, \"2|-6\")"
   ]
  },
  {
   "cell_type": "code",
   "execution_count": 332,
   "metadata": {},
   "outputs": [
    {
     "name": "stdout",
     "output_type": "stream",
     "text": [
      "KP:0.3000 KI:0.1 KD:0.10 PID_MAX:50 DEADZONE:40\n"
     ]
    }
   ],
   "source": [
    "# Ku = 0.15-0.2\n",
    "# Pu = 0.4 sec\n",
    "# \n",
    "# Kp = 0.6 * Ku = .12\n",
    "# Ki = 2 * Kp / Pu = 0.6\n",
    "# Kd = Kp * Pu / 8 = 0.006\n",
    "ble.send_command(CMD.SET_PID_MAX, \"0.3|0.00001|0.001|50|40\")"
>>>>>>> Stashed changes
   ]
  },
  {
   "cell_type": "code",
<<<<<<< Updated upstream
   "execution_count": null,
   "metadata": {},
   "outputs": [],
   "source": [
    "ble.send_command(CMD.SEND_TWO_INTS, \"2|-6\")"
   ]
  },
  {
   "cell_type": "code",
   "execution_count": null,
   "metadata": {},
   "outputs": [],
   "source": [
    "# Ku = 0.15-0.2\n",
    "# Pu = 0.4 sec\n",
    "# \n",
    "# Kp = 0.6 * Ku = .12\n",
    "# Ki = 2 * Kp / Pu = 0.6\n",
    "# Kd = Kp * Pu / 8 = 0.006\n",
    "ble.send_command(CMD.SET_PID_MAX, \"0.3|0.0001|0.001|50|40\")"
   ]
  },
  {
   "cell_type": "code",
   "execution_count": null,
   "metadata": {},
   "outputs": [],
   "source": [
    "# Backward 2 seconds\n",
    "ble.send_command(CMD.SET_PWM, \"0|75|0|75|2000\")"
   ]
  },
  {
   "cell_type": "code",
   "execution_count": null,
=======
   "execution_count": 331,
>>>>>>> Stashed changes
   "metadata": {},
   "outputs": [],
   "source": [
    "# Backward 2 seconds\n",
    "ble.send_command(CMD.SET_PWM, \"0|75|0|75|2000\")"
   ]
  },
  {
   "cell_type": "code",
   "execution_count": 333,
   "metadata": {},
   "outputs": [
    {
     "name": "stdout",
     "output_type": "stream",
     "text": [
      "KP:0.3000 KI:0.1 KD:0.10 PID_MAX:50 DEADZONE:40\n",
      "  Finished Go Wall\n"
     ]
    }
   ],
   "source": [
    "ble.send_command(CMD.GO_WALL, \"\")"
   ]
  },
  {
   "cell_type": "code",
<<<<<<< Updated upstream
   "execution_count": null,
=======
   "execution_count": 334,
>>>>>>> Stashed changes
   "metadata": {},
   "outputs": [
    {
     "name": "stdout",
     "output_type": "stream",
     "text": [
      "  Sending PID data ...\n",
      "  Data sent!\n"
     ]
    }
   ],
   "source": [
    "# Clear the data\n",
    "time_list = []\n",
    "dist = []\n",
    "pid = []\n",
    "pwm = []\n",
    "p = []\n",
    "i = []\n",
    "d = []\n",
    "\n",
    "# send the command\n",
    "ble.send_command(CMD.GET_WALL_DATA, \"\")"
   ]
  },
  {
   "cell_type": "code",
<<<<<<< Updated upstream
   "execution_count": null,
   "metadata": {},
   "outputs": [],
=======
   "execution_count": 336,
   "metadata": {},
   "outputs": [
    {
     "name": "stdout",
     "output_type": "stream",
     "text": [
      "1033\n"
     ]
    },
    {
     "data": {
      "image/png": "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",
      "text/plain": [
       "<Figure size 640x480 with 1 Axes>"
      ]
     },
     "metadata": {},
     "output_type": "display_data"
    }
   ],
>>>>>>> Stashed changes
   "source": [
    "plt.yticks([-180, -120, -60, 0, 60, 120, 180])\n",
    "count = len(time_list)\n",
    "print(count)\n",
    "    \n",
    "#for i in range(0, 30):\n",
    "#    print(time_list[i], dist[i], pid[i], pwm[i])\n",
    "\n",
    "total = count - 1\n",
    "\n",
    "#plt.plot(time_list[:total], dist[:total], color='r', label='dist')\n",
    "plt.plot(time_list[10:total],  pid[10:total], color='g', label='pid')\n",
    "plt.plot(time_list[10:total],  pwm[10:total], color='b', label='pwm')\n",
    "#plt.plot(time_list[:total],  p[:total],   color='c', label='P')\n",
    "plt.plot(time_list[:total],  i[:total],  color='m', label='I')\n",
    "#plt.plot(time_list[:total],  d[:total],  color='y', label='D')\n",
    "\n",
    "plt.title('PID Controller')\n",
    "plt.xlabel('Time')\n",
    "plt.ylabel('PID and PWM')\n",
    "plt.legend()\n",
    "plt.show()"
   ]
  },
  {
   "cell_type": "code",
   "execution_count": null,
   "metadata": {},
   "outputs": [],
   "source": [
    "# Forward 1 seconds. max speed, then brake hard\n",
    "ble.send_command(CMD.SET_PWM, \"100|0|100|0|1000\")\n",
    "ble.send_command(CMD.SET_PWM, \"255|255|255|255|1000\")"
   ]
  },
  {
   "cell_type": "code",
   "execution_count": null,
   "metadata": {},
   "outputs": [],
   "source": [
    "# Right motor only\n",
    "ble.send_command(CMD.SET_PWM, \"0|0|50|0|2000\")"
   ]
  },
  {
   "cell_type": "code",
   "execution_count": null,
   "metadata": {},
   "outputs": [],
   "source": [
    "# Left motor only\n",
    "ble.send_command(CMD.SET_PWM, \"50|0|0|0|2000\")"
   ]
  },
  {
   "cell_type": "code",
   "execution_count": null,
   "metadata": {},
   "outputs": [],
   "source": [
    "# rotate CCW\n",
    "ble.send_command(CMD.SET_PWM, \"1|250|250|1|2000\")"
   ]
  },
  {
   "cell_type": "code",
   "execution_count": null,
   "metadata": {},
   "outputs": [],
   "source": [
    "# rotate CW\n",
    "ble.send_command(CMD.SET_PWM, \"250|1|1|250|2000\")"
   ]
  },
  {
   "cell_type": "code",
   "execution_count": null,
   "metadata": {},
   "outputs": [],
   "source": [
    "# Forward 2 seconds\n",
    "ble.send_command(CMD.SET_PWM, \"80|0|80|0|2000\")"
   ]
  },
  {
   "cell_type": "code",
<<<<<<< Updated upstream
   "execution_count": null,
=======
   "execution_count": 223,
>>>>>>> Stashed changes
   "metadata": {},
   "outputs": [],
   "source": [
    "# Backward 2 seconds\n",
    "ble.send_command(CMD.SET_PWM, \"0|75|0|75|2000\")"
   ]
  },
  {
   "cell_type": "code",
   "execution_count": null,
   "metadata": {},
   "outputs": [],
   "source": [
    "# stop\n",
    "ble.send_command(CMD.SET_PWM, \"0|0|0|0|0\")"
   ]
  },
  {
   "cell_type": "code",
   "execution_count": null,
   "metadata": {},
   "outputs": [],
   "source": [
    "# slowest forward\n",
    "ble.send_command(CMD.SET_PWM, \"40|00|40|00|2000\")"
   ]
  },
  {
   "cell_type": "code",
   "execution_count": null,
   "metadata": {},
   "outputs": [],
   "source": [
    "# slowest reverse\n",
    "ble.send_command(CMD.SET_PWM, \"00|80|00|80|2000\")"
   ]
  },
  {
   "cell_type": "code",
   "execution_count": null,
   "metadata": {},
   "outputs": [],
   "source": [
    "# slowest turn\n",
    "ble.send_command(CMD.SET_PWM, \"00|80|80|0|2000\")"
   ]
  },
  {
   "cell_type": "markdown",
   "metadata": {},
   "source": [
    "## Disconnect"
   ]
  },
  {
   "cell_type": "code",
   "execution_count": null,
   "metadata": {
    "tags": []
   },
   "outputs": [],
   "source": [
    "# Disconnect\n",
    "ble.disconnect()"
   ]
  },
  {
   "cell_type": "code",
   "execution_count": null,
   "metadata": {},
   "outputs": [],
   "source": []
  }
 ],
 "metadata": {
  "kernelspec": {
   "display_name": "Python 3 (ipykernel)",
   "language": "python",
   "name": "python3"
  },
  "language_info": {
   "codemirror_mode": {
    "name": "ipython",
    "version": 3
   },
   "file_extension": ".py",
   "mimetype": "text/x-python",
   "name": "python",
   "nbconvert_exporter": "python",
   "pygments_lexer": "ipython3",
   "version": "3.12.2"
  }
 },
 "nbformat": 4,
 "nbformat_minor": 4
}
